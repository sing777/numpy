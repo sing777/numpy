{
 "cells": [
  {
   "cell_type": "code",
   "execution_count": 4,
   "id": "8d4e5145",
   "metadata": {},
   "outputs": [
    {
     "name": "stdout",
     "output_type": "stream",
     "text": [
      "12\n",
      "[ 12   3 432  55 123   4]\n",
      "[ 12 432]\n"
     ]
    }
   ],
   "source": [
    "import numpy as np\n",
    "list1=[12,3,432,55,123,4]\n",
    "array = np.array(list1)\n",
    "print(array[0])\n",
    "print(array)\n",
    "print(array[0:4:2])"
   ]
  },
  {
   "cell_type": "code",
   "execution_count": 5,
   "id": "1efee4bd",
   "metadata": {},
   "outputs": [
    {
     "name": "stdout",
     "output_type": "stream",
     "text": [
      "[[ 2  3  4]\n",
      " [ 5  6  7]\n",
      " [10 20 30]]\n"
     ]
    }
   ],
   "source": [
    "a = np.array ([[2,3,4],[5,6,7],[10,20,30]])\n",
    "print(a)"
   ]
  },
  {
   "cell_type": "code",
   "execution_count": 6,
   "id": "c76eecc9",
   "metadata": {},
   "outputs": [
    {
     "data": {
      "text/plain": [
       "array([[3]])"
      ]
     },
     "execution_count": 6,
     "metadata": {},
     "output_type": "execute_result"
    }
   ],
   "source": [
    "a[0:1,1:2]"
   ]
  },
  {
   "cell_type": "code",
   "execution_count": 7,
   "id": "4a67a165",
   "metadata": {},
   "outputs": [
    {
     "data": {
      "text/plain": [
       "array([[30]])"
      ]
     },
     "execution_count": 7,
     "metadata": {},
     "output_type": "execute_result"
    }
   ],
   "source": [
    "a[2:,2:]"
   ]
  },
  {
   "cell_type": "code",
   "execution_count": 8,
   "id": "2ce0361b",
   "metadata": {},
   "outputs": [
    {
     "data": {
      "text/plain": [
       "array([[6, 7]])"
      ]
     },
     "execution_count": 8,
     "metadata": {},
     "output_type": "execute_result"
    }
   ],
   "source": [
    "a[1:2,1:]"
   ]
  },
  {
   "cell_type": "code",
   "execution_count": 10,
   "id": "3ffcf2f9",
   "metadata": {},
   "outputs": [
    {
     "data": {
      "text/plain": [
       "array([[3, 4]])"
      ]
     },
     "execution_count": 10,
     "metadata": {},
     "output_type": "execute_result"
    }
   ],
   "source": [
    "a[0:1,1:]"
   ]
  },
  {
   "cell_type": "code",
   "execution_count": 11,
   "id": "5baa9f5a",
   "metadata": {},
   "outputs": [
    {
     "data": {
      "text/plain": [
       "array([[2, 3, 4],\n",
       "       [5, 6, 7]])"
      ]
     },
     "execution_count": 11,
     "metadata": {},
     "output_type": "execute_result"
    }
   ],
   "source": [
    "a[0:2]"
   ]
  },
  {
   "cell_type": "code",
   "execution_count": 12,
   "id": "50a0e82a",
   "metadata": {},
   "outputs": [
    {
     "data": {
      "text/plain": [
       "array([[6]])"
      ]
     },
     "execution_count": 12,
     "metadata": {},
     "output_type": "execute_result"
    }
   ],
   "source": [
    "a[1:2:,1:2]"
   ]
  },
  {
   "cell_type": "code",
   "execution_count": 15,
   "id": "a13b085e",
   "metadata": {},
   "outputs": [
    {
     "data": {
      "text/plain": [
       "array([[ 6,  7],\n",
       "       [20, 30]])"
      ]
     },
     "execution_count": 15,
     "metadata": {},
     "output_type": "execute_result"
    }
   ],
   "source": [
    "a[1:3,1:3]"
   ]
  },
  {
   "cell_type": "code",
   "execution_count": 16,
   "id": "a1b8c5ae",
   "metadata": {},
   "outputs": [
    {
     "name": "stdout",
     "output_type": "stream",
     "text": [
      "[[[  2   3   4]\n",
      "  [  5   6   7]\n",
      "  [ 10  20  30]]\n",
      "\n",
      " [[ 12  13  14]\n",
      "  [ 25  26  27]\n",
      "  [310 320 330]]]\n",
      "3\n"
     ]
    }
   ],
   "source": [
    "a = np.array ([[[2,3,4],[5,6,7],[10,20,30]],[[12,13,14],[25,26,27],[310,320,330]]])\n",
    "print(a)\n",
    "print(a.ndim)"
   ]
  },
  {
   "cell_type": "code",
   "execution_count": 17,
   "id": "6fbc3fae",
   "metadata": {},
   "outputs": [
    {
     "data": {
      "text/plain": [
       "array([[[ 14],\n",
       "        [ 27],\n",
       "        [330]]])"
      ]
     },
     "execution_count": 17,
     "metadata": {},
     "output_type": "execute_result"
    }
   ],
   "source": [
    "a[1::,0::,2::]"
   ]
  },
  {
   "cell_type": "code",
   "execution_count": 18,
   "id": "d1fdce14",
   "metadata": {},
   "outputs": [
    {
     "data": {
      "text/plain": [
       "array([[[6, 7]]])"
      ]
     },
     "execution_count": 18,
     "metadata": {},
     "output_type": "execute_result"
    }
   ],
   "source": [
    "a[0:1,1:2,1:]"
   ]
  },
  {
   "cell_type": "code",
   "execution_count": 19,
   "id": "a4ead80b",
   "metadata": {},
   "outputs": [
    {
     "data": {
      "text/plain": [
       "array([[[ 6],\n",
       "        [20]]])"
      ]
     },
     "execution_count": 19,
     "metadata": {},
     "output_type": "execute_result"
    }
   ],
   "source": [
    "a[0:1,1:,1:2]"
   ]
  },
  {
   "cell_type": "code",
   "execution_count": 20,
   "id": "ab7e4055",
   "metadata": {},
   "outputs": [
    {
     "data": {
      "text/plain": [
       "array([[[  2,   3,   4],\n",
       "        [  5,   6,   7],\n",
       "        [ 10,  20,  30]],\n",
       "\n",
       "       [[ 12,  13,  14],\n",
       "        [ 25,  26,  27],\n",
       "        [310, 320, 330]]])"
      ]
     },
     "execution_count": 20,
     "metadata": {},
     "output_type": "execute_result"
    }
   ],
   "source": [
    "a[0:,0:,0:]"
   ]
  },
  {
   "cell_type": "code",
   "execution_count": 24,
   "id": "1e429808",
   "metadata": {},
   "outputs": [
    {
     "data": {
      "text/plain": [
       "array([[[  2,   3,   4],\n",
       "        [  5,   6,   7],\n",
       "        [ 10,  20,  30]],\n",
       "\n",
       "       [[ 12,  13,  14],\n",
       "        [ 25,  26,  27],\n",
       "        [310, 320, 330]]])"
      ]
     },
     "execution_count": 24,
     "metadata": {},
     "output_type": "execute_result"
    }
   ],
   "source": [
    "a[::]"
   ]
  },
  {
   "cell_type": "code",
   "execution_count": 25,
   "id": "d6490f77",
   "metadata": {},
   "outputs": [
    {
     "data": {
      "text/plain": [
       "array([], shape=(0, 3, 3), dtype=int32)"
      ]
     },
     "execution_count": 25,
     "metadata": {},
     "output_type": "execute_result"
    }
   ],
   "source": [
    "a[1:1:1]"
   ]
  },
  {
   "cell_type": "code",
   "execution_count": 28,
   "id": "33605db7",
   "metadata": {},
   "outputs": [
    {
     "data": {
      "text/plain": [
       "array([[[14],\n",
       "        [27]]])"
      ]
     },
     "execution_count": 28,
     "metadata": {},
     "output_type": "execute_result"
    }
   ],
   "source": [
    "a[1:,0:2,2:]"
   ]
  },
  {
   "cell_type": "code",
   "execution_count": null,
   "id": "dbafcfc6",
   "metadata": {},
   "outputs": [],
   "source": [
    "a[0][1][1]"
   ]
  },
  {
   "cell_type": "code",
   "execution_count": 32,
   "id": "9daa4e6a",
   "metadata": {},
   "outputs": [
    {
     "data": {
      "text/plain": [
       "array([[1., 0., 0.],\n",
       "       [0., 1., 0.],\n",
       "       [0., 0., 1.]])"
      ]
     },
     "execution_count": 32,
     "metadata": {},
     "output_type": "execute_result"
    }
   ],
   "source": [
    "np.eye(3)"
   ]
  },
  {
   "cell_type": "code",
   "execution_count": 33,
   "id": "79a52339",
   "metadata": {},
   "outputs": [
    {
     "data": {
      "text/plain": [
       "array([[0.63471684, 0.78386989, 0.96464419, 0.36509487, 0.44684231],\n",
       "       [0.8043417 , 0.45190906, 0.96518301, 0.12713519, 0.15021349]])"
      ]
     },
     "execution_count": 33,
     "metadata": {},
     "output_type": "execute_result"
    }
   ],
   "source": [
    "np.random.rand(2,5)"
   ]
  },
  {
   "cell_type": "code",
   "execution_count": 34,
   "id": "6ce02ac8",
   "metadata": {},
   "outputs": [
    {
     "data": {
      "text/plain": [
       "array([7, 5, 3])"
      ]
     },
     "execution_count": 34,
     "metadata": {},
     "output_type": "execute_result"
    }
   ],
   "source": [
    "np.random.randint(1,12,3)"
   ]
  },
  {
   "cell_type": "code",
   "execution_count": 35,
   "id": "1adc830f",
   "metadata": {},
   "outputs": [
    {
     "data": {
      "text/plain": [
       "(array([ 2.,  4.,  6.,  8., 10., 12., 14., 16., 18., 20.]), 2.0)"
      ]
     },
     "execution_count": 35,
     "metadata": {},
     "output_type": "execute_result"
    }
   ],
   "source": [
    "np.linspace(2,20,10,retstep=True)"
   ]
  },
  {
   "cell_type": "code",
   "execution_count": 54,
   "id": "2b8ef064",
   "metadata": {},
   "outputs": [
    {
     "data": {
      "text/plain": [
       "(array([ 1.,  2.,  3.,  4.,  5.,  6.,  7.,  8.,  9., 10., 11., 12., 13.,\n",
       "        14., 15., 16., 17., 18., 19., 20., 21., 22., 23., 24., 25., 26.,\n",
       "        27., 28., 29., 30., 31., 32., 33., 34., 35., 36., 37., 38., 39.,\n",
       "        40., 41., 42., 43., 44., 45., 46., 47., 48., 49., 50.]),\n",
       " 1.0)"
      ]
     },
     "execution_count": 54,
     "metadata": {},
     "output_type": "execute_result"
    }
   ],
   "source": [
    "arr = np.linspace(1,50, num= 50,retstep=True) \n",
    "# last included\n",
    "arr"
   ]
  },
  {
   "cell_type": "code",
   "execution_count": 39,
   "id": "526bf958",
   "metadata": {},
   "outputs": [
    {
     "data": {
      "text/plain": [
       "array([ 2,  6, 10, 14, 18])"
      ]
     },
     "execution_count": 39,
     "metadata": {},
     "output_type": "execute_result"
    }
   ],
   "source": [
    "np.arange(2,20,4)"
   ]
  },
  {
   "cell_type": "code",
   "execution_count": 53,
   "id": "ab544692",
   "metadata": {},
   "outputs": [
    {
     "data": {
      "text/plain": [
       "array([ 0,  2,  4,  6,  8, 10, 12, 14, 16, 18])"
      ]
     },
     "execution_count": 53,
     "metadata": {},
     "output_type": "execute_result"
    }
   ],
   "source": [
    "arr = np.arange(0,20,2) ## last element is not icluded \n",
    "arr"
   ]
  },
  {
   "cell_type": "code",
   "execution_count": 40,
   "id": "e7fd9d86",
   "metadata": {},
   "outputs": [
    {
     "data": {
      "text/plain": [
       "array([[[-0.286776  , -0.02295521, -0.50612847],\n",
       "        [-0.50095541,  1.07986136, -1.19137928],\n",
       "        [ 0.89697731, -1.50031083, -0.7219397 ],\n",
       "        [-0.59548712,  0.54700995,  0.97695968],\n",
       "        [ 0.49140025,  1.0394022 , -0.32878457]]])"
      ]
     },
     "execution_count": 40,
     "metadata": {},
     "output_type": "execute_result"
    }
   ],
   "source": [
    "arr = np.random.randn(1,5,3)\n",
    "arr"
   ]
  },
  {
   "cell_type": "code",
   "execution_count": 41,
   "id": "df1ba0ad",
   "metadata": {},
   "outputs": [
    {
     "name": "stdout",
     "output_type": "stream",
     "text": [
      "arr=array([16, 11, 17, 15, 11, 12, 16, 18, 15, 14])\n"
     ]
    },
    {
     "data": {
      "text/plain": [
       "array([11, 11, 12, 14, 15, 15, 16, 16, 17, 18])"
      ]
     },
     "execution_count": 41,
     "metadata": {},
     "output_type": "execute_result"
    }
   ],
   "source": [
    "arr = np.random.randint(10,20, size = 10)\n",
    "print(f\"{arr=}\")\n",
    "sort_array = np.sort(arr)\n",
    "sort_array"
   ]
  },
  {
   "cell_type": "code",
   "execution_count": 42,
   "id": "e54f30c1",
   "metadata": {},
   "outputs": [
    {
     "name": "stdout",
     "output_type": "stream",
     "text": [
      "\n",
      "new_arr=array([[14, 15,  4,  5, 14, 15],\n",
      "       [16, 17,  6,  7, 23, 43]])\n"
     ]
    }
   ],
   "source": [
    "arr = np.array([[4,5],[6,7]])\n",
    "arr1 = np.array([[14,15],[16,17]])\n",
    "arr2 = np.array([[14,15],[23,43]])\n",
    "new_arr = np.concatenate([arr1,arr,arr2],axis=1)\n",
    "\n",
    "print(f\"\\n{new_arr=}\")"
   ]
  },
  {
   "cell_type": "code",
   "execution_count": 43,
   "id": "1e1004af",
   "metadata": {},
   "outputs": [
    {
     "data": {
      "text/plain": [
       "3.0"
      ]
     },
     "execution_count": 43,
     "metadata": {},
     "output_type": "execute_result"
    }
   ],
   "source": [
    "np.ceil(2.2)"
   ]
  },
  {
   "cell_type": "code",
   "execution_count": 44,
   "id": "a9d52603",
   "metadata": {},
   "outputs": [
    {
     "data": {
      "text/plain": [
       "2.0"
      ]
     },
     "execution_count": 44,
     "metadata": {},
     "output_type": "execute_result"
    }
   ],
   "source": [
    "np.floor(2.2)"
   ]
  },
  {
   "cell_type": "code",
   "execution_count": 45,
   "id": "25e3df8a",
   "metadata": {},
   "outputs": [
    {
     "data": {
      "text/plain": [
       "2.0"
      ]
     },
     "execution_count": 45,
     "metadata": {},
     "output_type": "execute_result"
    }
   ],
   "source": [
    "np.around(2.2)"
   ]
  },
  {
   "cell_type": "code",
   "execution_count": 46,
   "id": "7981f24c",
   "metadata": {},
   "outputs": [
    {
     "data": {
      "text/plain": [
       "2"
      ]
     },
     "execution_count": 46,
     "metadata": {},
     "output_type": "execute_result"
    }
   ],
   "source": [
    "list1 = [3,4,5,6,7,8,9]\n",
    "\n",
    "index_list = list1.index(5)\n",
    "index_list"
   ]
  },
  {
   "cell_type": "code",
   "execution_count": 50,
   "id": "049f88b9",
   "metadata": {},
   "outputs": [
    {
     "data": {
      "text/plain": [
       "(array([0, 3, 4], dtype=int64),)"
      ]
     },
     "execution_count": 50,
     "metadata": {},
     "output_type": "execute_result"
    }
   ],
   "source": [
    "a=np.array([12,4,5,4235,6,3,5])\n",
    "s=np.where(a>5)\n",
    "# s[0].tolist()\n",
    "s"
   ]
  },
  {
   "cell_type": "code",
   "execution_count": 51,
   "id": "7d5e3617",
   "metadata": {},
   "outputs": [
    {
     "name": "stdout",
     "output_type": "stream",
     "text": [
      "[[2 3 4]\n",
      " [5 6 7]]\n",
      "**************************************************\n",
      "[[21 31 41]\n",
      " [51 61 71]]\n",
      "**************************************************\n",
      "[[23 34 45]\n",
      " [56 67 78]]\n",
      "**************************************************\n",
      "[[23 34 45]\n",
      " [56 67 78]]\n",
      "[[2 3 4]\n",
      " [5 6 7]]\n",
      "**************************************************\n",
      "[[21 31 41]\n",
      " [51 61 71]]\n",
      "**************************************************\n",
      "[[ 42  93 164]\n",
      " [255 366 497]]\n",
      "**************************************************\n",
      "[[ 42  93 164]\n",
      " [255 366 497]]\n",
      "**************************************************\n"
     ]
    },
    {
     "ename": "ValueError",
     "evalue": "shapes (2,3) and (2,3) not aligned: 3 (dim 1) != 2 (dim 0)",
     "output_type": "error",
     "traceback": [
      "\u001b[1;31m---------------------------------------------------------------------------\u001b[0m",
      "\u001b[1;31mValueError\u001b[0m                                Traceback (most recent call last)",
      "\u001b[1;32m~\\AppData\\Local\\Temp/ipykernel_14124/2387023181.py\u001b[0m in \u001b[0;36m<module>\u001b[1;34m\u001b[0m\n\u001b[0;32m     20\u001b[0m \u001b[0mprint\u001b[0m\u001b[1;33m(\u001b[0m\u001b[0marr1\u001b[0m\u001b[1;33m*\u001b[0m\u001b[0marr2\u001b[0m\u001b[1;33m)\u001b[0m\u001b[1;33m\u001b[0m\u001b[1;33m\u001b[0m\u001b[0m\n\u001b[0;32m     21\u001b[0m \u001b[0mprint\u001b[0m\u001b[1;33m(\u001b[0m\u001b[1;34m'*'\u001b[0m\u001b[1;33m*\u001b[0m\u001b[1;36m50\u001b[0m\u001b[1;33m)\u001b[0m\u001b[1;33m\u001b[0m\u001b[1;33m\u001b[0m\u001b[0m\n\u001b[1;32m---> 22\u001b[1;33m \u001b[0ms\u001b[0m\u001b[1;33m=\u001b[0m\u001b[0mnp\u001b[0m\u001b[1;33m.\u001b[0m\u001b[0mdot\u001b[0m\u001b[1;33m(\u001b[0m\u001b[0marr1\u001b[0m\u001b[1;33m,\u001b[0m\u001b[0marr2\u001b[0m\u001b[1;33m)\u001b[0m\u001b[1;33m\u001b[0m\u001b[1;33m\u001b[0m\u001b[0m\n\u001b[0m\u001b[0;32m     23\u001b[0m \u001b[0mprint\u001b[0m\u001b[1;33m(\u001b[0m\u001b[0ms\u001b[0m\u001b[1;33m)\u001b[0m\u001b[1;33m\u001b[0m\u001b[1;33m\u001b[0m\u001b[0m\n",
      "\u001b[1;32m<__array_function__ internals>\u001b[0m in \u001b[0;36mdot\u001b[1;34m(*args, **kwargs)\u001b[0m\n",
      "\u001b[1;31mValueError\u001b[0m: shapes (2,3) and (2,3) not aligned: 3 (dim 1) != 2 (dim 0)"
     ]
    }
   ],
   "source": [
    "arr1 = np.array([[2, 3, 4], [5, 6, 7]])\n",
    "print(arr1)\n",
    "print('*'*50)\n",
    "arr2 = np.array([[21, 31, 41], [51, 61, 71]])\n",
    "print(arr2)\n",
    "print('*'*50)\n",
    "nw=np.add(arr1,arr2)\n",
    "print(nw)\n",
    "print('*'*50)\n",
    "print(arr1+arr2)\n",
    "arr1 = np.array([[2, 3, 4], [5, 6, 7]])\n",
    "print(arr1)\n",
    "print('*'*50)\n",
    "arr2 = np.array([[21, 31, 41], [51, 61, 71]])\n",
    "print(arr2)\n",
    "print('*'*50)\n",
    "nw=np.multiply(arr1,arr2)\n",
    "print(nw)\n",
    "print('*'*50)\n",
    "print(arr1*arr2)\n",
    "print('*'*50)\n",
    "s=np.dot(arr1,arr2)\n",
    "print(s)\n"
   ]
  },
  {
   "cell_type": "code",
   "execution_count": 52,
   "id": "2083d54c",
   "metadata": {},
   "outputs": [
    {
     "name": "stdout",
     "output_type": "stream",
     "text": [
      "Array1 = \n",
      "[[2 3]\n",
      " [4 5]]\n",
      "Array2 = \n",
      "[[1 4]\n",
      " [3 6]]\n",
      "[[11 26]\n",
      " [19 46]]\n"
     ]
    }
   ],
   "source": [
    "arr1 = np.array([[2, 3],[ 4,5]])\n",
    "print(f\"Array1 = \\n{arr1}\")\n",
    "arr2 = np.array([[1,4 ],[ 3,6]])\n",
    "print(f\"Array2 = \\n{arr2}\")\n",
    "\n",
    "# arr = arr1 * arr2\n",
    "# print('*'*30)\n",
    "arr = np.dot(arr1,arr2)\n",
    "print(arr)"
   ]
  },
  {
   "cell_type": "code",
   "execution_count": 55,
   "id": "612a3286",
   "metadata": {},
   "outputs": [
    {
     "name": "stdout",
     "output_type": "stream",
     "text": [
      "new_arr=array([ 4,  5,  6,  7,  8, 14, 15, 16, 17, 18])\n"
     ]
    }
   ],
   "source": [
    "arr = np.array([4,5,6,7,8])\n",
    "arr1 = np.array([14,15,16,17,18])\n",
    "\n",
    "new_arr = np.append(arr,arr1)\n",
    "\n",
    "print(f\"{new_arr=}\")"
   ]
  },
  {
   "cell_type": "code",
   "execution_count": 56,
   "id": "8fe9ae95",
   "metadata": {},
   "outputs": [
    {
     "name": "stdout",
     "output_type": "stream",
     "text": [
      "Array1 = \n",
      " [[4 5 6]\n",
      " [7 8 9]] \n",
      "Array2 = \n",
      " [[14 15 16]\n",
      " [17 18 19]] \n",
      "New Array = \n",
      " [[ 4  5  6]\n",
      " [ 7  8  9]\n",
      " [14 15 16]\n",
      " [17 18 19]]\n"
     ]
    }
   ],
   "source": [
    "arr1 = np.array([[4,5,6],[7,8,9]])\n",
    "print(f\"Array1 = \\n {arr1} \")\n",
    "arr2 = np.array([[14,15,16],[17,18,19]])\n",
    "print(f\"Array2 = \\n {arr2} \")\n",
    "\n",
    "new_arr = np.append(arr1,arr2, axis= 0) ## axis = 0 >> adding rows\n",
    " \n",
    "print(f\"New Array = \\n {new_arr}\")"
   ]
  },
  {
   "cell_type": "code",
   "execution_count": 57,
   "id": "75668a36",
   "metadata": {},
   "outputs": [
    {
     "name": "stdout",
     "output_type": "stream",
     "text": [
      "Array1 = \n",
      " [[4 5 6]\n",
      " [7 8 9]] \n",
      "Array2 = \n",
      " [[14 15 16]\n",
      " [17 18 19]] \n",
      "New Array = \n",
      " [[ 4  5  6 14 15 16]\n",
      " [ 7  8  9 17 18 19]]\n"
     ]
    }
   ],
   "source": [
    "arr1 = np.array([[4,5,6],[7,8,9]])\n",
    "print(f\"Array1 = \\n {arr1} \")\n",
    "arr2 = np.array([[14,15,16],[17,18,19]])\n",
    "print(f\"Array2 = \\n {arr2} \")\n",
    "\n",
    "new_arr = np.append(arr1,arr2, axis= 1) ## axis = 1 >> adding columns\n",
    " \n",
    "print(f\"New Array = \\n {new_arr}\")"
   ]
  },
  {
   "cell_type": "code",
   "execution_count": 58,
   "id": "074a7ee2",
   "metadata": {},
   "outputs": [
    {
     "name": "stdout",
     "output_type": "stream",
     "text": [
      "Array1 = \n",
      " [[4 5 6]\n",
      " [7 8 9]] \n",
      "Array2 = \n",
      " [[14 15 16]\n",
      " [17 18 19]] \n",
      "Array3 = \n",
      " [[10 20 30]\n",
      " [50 60 70]] \n",
      "New Array = \n",
      " [[ 4  5  6]\n",
      " [ 7  8  9]\n",
      " [14 15 16]\n",
      " [17 18 19]\n",
      " [10 20 30]\n",
      " [50 60 70]]\n"
     ]
    }
   ],
   "source": [
    "arr1 = np.array([[4,5,6],[7,8,9]])\n",
    "print(f\"Array1 = \\n {arr1} \")\n",
    "arr2 = np.array([[14,15,16],[17,18,19]])\n",
    "print(f\"Array2 = \\n {arr2} \")\n",
    "arr3 = np.array([[10,20,30],[50,60,70]])\n",
    "print(f\"Array3 = \\n {arr3} \")\n",
    "new_arr = np.concatenate([arr1,arr2,arr3], axis= 0) ## axis = 0 >> adding rows\n",
    " \n",
    "print(f\"New Array = \\n {new_arr}\")"
   ]
  },
  {
   "cell_type": "code",
   "execution_count": 59,
   "id": "ee301bff",
   "metadata": {},
   "outputs": [
    {
     "name": "stdout",
     "output_type": "stream",
     "text": [
      "[[ 2  3  4]\n",
      " [ 5  6  7]\n",
      " [ 9 10 12]\n",
      " [13 14 15]]\n",
      "(array([0, 0, 1, 2, 2, 3], dtype=int64), array([0, 2, 1, 1, 2, 1], dtype=int64))\n",
      "[0, 0, 1, 2, 2, 3]\n",
      "[0, 2, 1, 1, 2, 1]\n"
     ]
    }
   ],
   "source": [
    "import numpy as np\n",
    "arr = np.array([[2, 3, 4], [5, 6, 7],[ 9, 10, 12],[ 13,14,15]])\n",
    "print(arr)\n",
    "result = np.where(arr%2==0)\n",
    "print(result)\n",
    "row_index = result[0].tolist()\n",
    "columns_index = result[1].tolist()\n",
    "\n",
    "print(row_index)\n",
    "print(columns_index)"
   ]
  },
  {
   "cell_type": "code",
   "execution_count": 60,
   "id": "3404d826",
   "metadata": {},
   "outputs": [
    {
     "name": "stdout",
     "output_type": "stream",
     "text": [
      "1\n",
      "2\n",
      "3\n",
      "4\n",
      "5\n",
      "6\n",
      "7\n",
      "8\n",
      "9\n",
      "10\n",
      "11\n",
      "12\n",
      "2\n"
     ]
    }
   ],
   "source": [
    "# ACCESS ELEMENTS IN ARRAY\n",
    "import numpy as np\n",
    "array = np.array([[1,2,3,4,5,6],[7,8,9,10,11,12]])\n",
    "\n",
    "for i in array:\n",
    "    for j in i:\n",
    "        print(j)\n",
    "print(array.ndim) "
   ]
  },
  {
   "cell_type": "code",
   "execution_count": 62,
   "id": "ff91e0cc",
   "metadata": {},
   "outputs": [
    {
     "name": "stdout",
     "output_type": "stream",
     "text": [
      "<numpy.nditer object at 0x0000021A5E9AC530>\n",
      "2\n",
      "3\n",
      "4\n",
      "5\n"
     ]
    }
   ],
   "source": [
    "# nditer()\n",
    "array = np.array([[[2,3],[4,5]],[[6,7],[8,9]]])\n",
    "\n",
    "array_iter = np.nditer(array)\n",
    "print(array_iter)\n",
    "\n",
    "print(next(array_iter))\n",
    "print(next(array_iter))\n",
    "print(next(array_iter))\n",
    "print(next(array_iter))"
   ]
  },
  {
   "cell_type": "code",
   "execution_count": 63,
   "id": "6fff7fee",
   "metadata": {},
   "outputs": [
    {
     "name": "stdout",
     "output_type": "stream",
     "text": [
      "(0,) 2\n",
      "(1,) 3\n",
      "(2,) 4\n",
      "(3,) 5\n",
      "(4,) 6\n"
     ]
    }
   ],
   "source": [
    "# ndenumerate()\n",
    "arr = np.array([2,3,4,5,6])\n",
    "\n",
    "for index,value in np.ndenumerate(arr):\n",
    "    print(index,value)"
   ]
  },
  {
   "cell_type": "code",
   "execution_count": 64,
   "id": "253f353f",
   "metadata": {},
   "outputs": [
    {
     "data": {
      "text/plain": [
       "array([[1, 0, 0, 0, 0],\n",
       "       [0, 1, 0, 0, 0],\n",
       "       [0, 0, 1, 0, 0],\n",
       "       [0, 0, 0, 1, 0],\n",
       "       [0, 0, 0, 0, 1]])"
      ]
     },
     "execution_count": 64,
     "metadata": {},
     "output_type": "execute_result"
    }
   ],
   "source": [
    "arr = np.identity(5,dtype=int)\n",
    "arr"
   ]
  },
  {
   "cell_type": "code",
   "execution_count": 65,
   "id": "d4c03df8",
   "metadata": {},
   "outputs": [
    {
     "data": {
      "text/plain": [
       "array([64, 66, 32, 75, 32, 62, 69])"
      ]
     },
     "execution_count": 65,
     "metadata": {},
     "output_type": "execute_result"
    }
   ],
   "source": [
    "np.random.seed(9)\n",
    "arr = np.random.randint(10,100, size = 7)\n",
    "arr"
   ]
  },
  {
   "cell_type": "code",
   "execution_count": 66,
   "id": "3659394c",
   "metadata": {},
   "outputs": [],
   "source": [
    "from scipy import stats"
   ]
  },
  {
   "cell_type": "code",
   "execution_count": 67,
   "id": "e4ccc1d4",
   "metadata": {},
   "outputs": [
    {
     "name": "stdout",
     "output_type": "stream",
     "text": [
      "[[13 13 11]\n",
      " [12 13 13]\n",
      " [14 10 11]]\n"
     ]
    }
   ],
   "source": [
    "np.random.seed(12)\n",
    "array2 = np.random.randint(10,15, size =(3,3))\n",
    "print(array2)"
   ]
  },
  {
   "cell_type": "code",
   "execution_count": 68,
   "id": "1a4847ce",
   "metadata": {},
   "outputs": [
    {
     "data": {
      "text/plain": [
       "ModeResult(mode=array([[12, 13, 11]]), count=array([[1, 2, 2]]))"
      ]
     },
     "execution_count": 68,
     "metadata": {},
     "output_type": "execute_result"
    }
   ],
   "source": [
    "mode = stats.mode(array2)\n",
    "mode"
   ]
  },
  {
   "cell_type": "code",
   "execution_count": 69,
   "id": "5e095afb",
   "metadata": {},
   "outputs": [
    {
     "data": {
      "text/plain": [
       "13.0"
      ]
     },
     "execution_count": 69,
     "metadata": {},
     "output_type": "execute_result"
    }
   ],
   "source": [
    "median = np.median(array2)\n",
    "median"
   ]
  },
  {
   "cell_type": "markdown",
   "id": "c8529abf",
   "metadata": {},
   "source": [
    "1. np.mean(a)\n",
    "2. np.median(a)\n",
    "3. mode()\n",
    "4. np.var(a)\n",
    "5. standard deviation()\n",
    "np.std(a)\n",
    "6. np.min(a)\n",
    "7. np.max(a)"
   ]
  },
  {
   "cell_type": "code",
   "execution_count": 70,
   "id": "258c76d3",
   "metadata": {},
   "outputs": [
    {
     "data": {
      "text/plain": [
       "-0.9880316240928618"
      ]
     },
     "execution_count": 70,
     "metadata": {},
     "output_type": "execute_result"
    }
   ],
   "source": [
    "np.sin(30)\n",
    "# wrong"
   ]
  },
  {
   "cell_type": "code",
   "execution_count": 71,
   "id": "a423ff87",
   "metadata": {},
   "outputs": [
    {
     "data": {
      "text/plain": [
       "0.49999999999999994"
      ]
     },
     "execution_count": 71,
     "metadata": {},
     "output_type": "execute_result"
    }
   ],
   "source": [
    "sin_30 = np.sin(np.pi/6)  # >> 0.5\n",
    "sin_30\n",
    "# correct"
   ]
  },
  {
   "cell_type": "code",
   "execution_count": 77,
   "id": "8096e907",
   "metadata": {},
   "outputs": [
    {
     "name": "stdout",
     "output_type": "stream",
     "text": [
      "[1.01229097 0.52359878 0.78539816 1.04719755 1.57079633]\n",
      "[0.8480481  0.5        0.70710678 0.8660254  1.        ]\n",
      "[3323.15521176 1718.87338539 2578.31007809 3437.74677078 5156.62015618]\n",
      "[58.00000022 30.00000025 44.99999981 59.99999993 90.00000018]\n"
     ]
    }
   ],
   "source": [
    "arr = np.array([58,30,45,60,90])\n",
    "\n",
    "arr_deg = np.deg2rad(arr)\n",
    "print(arr_deg)\n",
    "\n",
    "arr_sin = np.sin(arr_deg)\n",
    "print(arr_sin)\n",
    "\n",
    "arr_deg = np.rad2deg(arr)\n",
    "print(arr_deg)\n",
    "rad_arr = np.array([1.01229097, 0.52359878, 0.78539816, 1.04719755, 1.57079633])\n",
    "deg = np.rad2deg(rad_arr)\n",
    "print(deg)"
   ]
  },
  {
   "cell_type": "code",
   "execution_count": 80,
   "id": "d1ea5165",
   "metadata": {},
   "outputs": [
    {
     "name": "stdout",
     "output_type": "stream",
     "text": [
      "[2.30258509 2.99573227 2.48490665 2.63905733 2.7080502  2.83321334\n",
      " 5.01063529 2.39789527 2.89037176 2.56494936 2.48490665]\n",
      "Mean = 26.545454545454547\n"
     ]
    }
   ],
   "source": [
    "data = [10,20,12,14,15,17,150,11,18,13,12]\n",
    "print(np.log(data))\n",
    "print(f\"Mean = {np.mean(data)}\")\n"
   ]
  },
  {
   "cell_type": "code",
   "execution_count": null,
   "id": "7eddb57e",
   "metadata": {},
   "outputs": [],
   "source": [
    "3x + 5y = 20\n",
    "4x + 7y = 30\n",
    "---------------\n",
    "\n",
    "x = ? -10\n",
    "y = ? 10\n"
   ]
  },
  {
   "cell_type": "code",
   "execution_count": 81,
   "id": "37a15536",
   "metadata": {},
   "outputs": [
    {
     "name": "stdout",
     "output_type": "stream",
     "text": [
      "Array A = \n",
      "[[3 5]\n",
      " [4 7]]\n",
      "Array B = \n",
      "[20 30]\n"
     ]
    },
    {
     "data": {
      "text/plain": [
       "array([-10.,  10.])"
      ]
     },
     "execution_count": 81,
     "metadata": {},
     "output_type": "execute_result"
    }
   ],
   "source": [
    "import numpy as np\n",
    "arrA = np.array([[3,5],[4,7]])\n",
    "arrB = np.array([20,30])\n",
    "print(f\"Array A = \\n{arrA}\")\n",
    "print(f\"Array B = \\n{arrB}\")\n",
    "\n",
    "result = np.linalg.solve(arrA,arrB)\n",
    "result"
   ]
  },
  {
   "cell_type": "code",
   "execution_count": 82,
   "id": "1e5f7902",
   "metadata": {},
   "outputs": [
    {
     "name": "stdout",
     "output_type": "stream",
     "text": [
      "[[3 2]\n",
      " [4 6]]\n",
      "[[3 4]\n",
      " [2 6]]\n"
     ]
    }
   ],
   "source": [
    "arr = np.array([[3,2],[4,6]])\n",
    "print(arr)\n",
    "tr_arr = np.transpose(arr)\n",
    "print(tr_arr)"
   ]
  },
  {
   "cell_type": "code",
   "execution_count": 83,
   "id": "90f9d43d",
   "metadata": {},
   "outputs": [
    {
     "name": "stdout",
     "output_type": "stream",
     "text": [
      "[[3 2]\n",
      " [4 6]]\n",
      "10.000000000000002\n"
     ]
    }
   ],
   "source": [
    "arr = np.array([[3,2],[4,6]])\n",
    "print(arr)\n",
    "det = np.linalg.det(arr)\n",
    "print(det)"
   ]
  },
  {
   "cell_type": "code",
   "execution_count": 84,
   "id": "5f0cc362",
   "metadata": {},
   "outputs": [
    {
     "name": "stdout",
     "output_type": "stream",
     "text": [
      "[[3 2]\n",
      " [4 6]]\n",
      "[[ 0.6 -0.2]\n",
      " [-0.4  0.3]]\n"
     ]
    }
   ],
   "source": [
    "arr = np.array([[3,2],[4,6]])\n",
    "print(arr)\n",
    "inv = np.linalg.inv(arr)\n",
    "print(inv)"
   ]
  },
  {
   "cell_type": "code",
   "execution_count": 85,
   "id": "625b39df",
   "metadata": {},
   "outputs": [
    {
     "name": "stdout",
     "output_type": "stream",
     "text": [
      "Array1 = [10 20 30 40 50]\n",
      "Array2 = [10 20 30 40 50]\n",
      "Array1 = [10 20 30 40 50]\n",
      "Array2 = [ 10  20 100  40  50]\n"
     ]
    }
   ],
   "source": [
    "arr1 = np.array([10,20,30,40,50])\n",
    "arr2 = arr1.copy()  # Deep Copy\n",
    "print(f\"Array1 = {arr1}\")\n",
    "\n",
    "print(f\"Array2 = {arr2}\")\n",
    "\n",
    "arr2[2] = 100\n",
    "\n",
    "print(f\"Array1 = {arr1}\")\n",
    "\n",
    "print(f\"Array2 = {arr2}\")"
   ]
  },
  {
   "cell_type": "code",
   "execution_count": 86,
   "id": "b0df1eef",
   "metadata": {},
   "outputs": [
    {
     "name": "stdout",
     "output_type": "stream",
     "text": [
      "[ 10  40  90 160 250]\n"
     ]
    }
   ],
   "source": [
    "arr1 = np.array([1,2,3,4,5])\n",
    "arr2 = np.array([10,20,30,40,50])\n",
    "\n",
    "arr = arr1 * arr2\n",
    "print(arr)"
   ]
  },
  {
   "cell_type": "code",
   "execution_count": 87,
   "id": "6a01a604",
   "metadata": {},
   "outputs": [
    {
     "name": "stdout",
     "output_type": "stream",
     "text": [
      "[ 20  40  60  80 100]\n"
     ]
    }
   ],
   "source": [
    "arr1 = np.array([2])\n",
    "arr2 = np.array([10,20,30,40,50])\n",
    "\n",
    "arr = arr1 * arr2\n",
    "print(arr)"
   ]
  },
  {
   "cell_type": "code",
   "execution_count": 88,
   "id": "35f5d0eb",
   "metadata": {},
   "outputs": [
    {
     "ename": "ValueError",
     "evalue": "operands could not be broadcast together with shapes (2,) (5,) ",
     "output_type": "error",
     "traceback": [
      "\u001b[1;31m---------------------------------------------------------------------------\u001b[0m",
      "\u001b[1;31mValueError\u001b[0m                                Traceback (most recent call last)",
      "\u001b[1;32m~\\AppData\\Local\\Temp/ipykernel_14124/3549615526.py\u001b[0m in \u001b[0;36m<module>\u001b[1;34m\u001b[0m\n\u001b[0;32m      2\u001b[0m \u001b[0marr2\u001b[0m \u001b[1;33m=\u001b[0m \u001b[0mnp\u001b[0m\u001b[1;33m.\u001b[0m\u001b[0marray\u001b[0m\u001b[1;33m(\u001b[0m\u001b[1;33m[\u001b[0m\u001b[1;36m10\u001b[0m\u001b[1;33m,\u001b[0m\u001b[1;36m20\u001b[0m\u001b[1;33m,\u001b[0m\u001b[1;36m30\u001b[0m\u001b[1;33m,\u001b[0m\u001b[1;36m40\u001b[0m\u001b[1;33m,\u001b[0m\u001b[1;36m50\u001b[0m\u001b[1;33m]\u001b[0m\u001b[1;33m)\u001b[0m\u001b[1;33m\u001b[0m\u001b[1;33m\u001b[0m\u001b[0m\n\u001b[0;32m      3\u001b[0m \u001b[1;33m\u001b[0m\u001b[0m\n\u001b[1;32m----> 4\u001b[1;33m \u001b[0marr\u001b[0m \u001b[1;33m=\u001b[0m \u001b[0marr1\u001b[0m \u001b[1;33m*\u001b[0m \u001b[0marr2\u001b[0m\u001b[1;33m\u001b[0m\u001b[1;33m\u001b[0m\u001b[0m\n\u001b[0m\u001b[0;32m      5\u001b[0m \u001b[0mprint\u001b[0m\u001b[1;33m(\u001b[0m\u001b[0marr\u001b[0m\u001b[1;33m)\u001b[0m\u001b[1;33m\u001b[0m\u001b[1;33m\u001b[0m\u001b[0m\n",
      "\u001b[1;31mValueError\u001b[0m: operands could not be broadcast together with shapes (2,) (5,) "
     ]
    }
   ],
   "source": [
    "arr1 = np.array([2,3])\n",
    "arr2 = np.array([10,20,30,40,50])\n",
    "\n",
    "arr = arr1 * arr2\n",
    "print(arr)"
   ]
  },
  {
   "cell_type": "code",
   "execution_count": 90,
   "id": "a8249a19",
   "metadata": {},
   "outputs": [
    {
     "name": "stdout",
     "output_type": "stream",
     "text": [
      "[[ 20  60]\n",
      " [ 40 100]\n",
      " [ 60 140]\n",
      " [ 80 180]]\n"
     ]
    }
   ],
   "source": [
    "arr1 = np.array([[2,3],[4,5],[6,7],[8,9]])\n",
    "arr2 = np.array([10,20])\n",
    "\n",
    "arr = arr2 * arr1\n",
    "print(arr)\n",
    "# 2x2"
   ]
  },
  {
   "cell_type": "code",
   "execution_count": 2,
   "id": "3e4b6f58",
   "metadata": {},
   "outputs": [
    {
     "data": {
      "text/plain": [
       "7"
      ]
     },
     "execution_count": 2,
     "metadata": {},
     "output_type": "execute_result"
    }
   ],
   "source": [
    "import numpy as np\n",
    "s=np.array([12,3,4,52,4,53,13])\n",
    "s1=s.size\n",
    "s1"
   ]
  },
  {
   "cell_type": "code",
   "execution_count": 3,
   "id": "6563336e",
   "metadata": {},
   "outputs": [
    {
     "data": {
      "text/plain": [
       "array([0., 0., 0., 0., 0., 1., 0., 0., 0., 0.])"
      ]
     },
     "execution_count": 3,
     "metadata": {},
     "output_type": "execute_result"
    }
   ],
   "source": [
    "s=np.zeros(10)\n",
    "s[5]=1\n",
    "s"
   ]
  },
  {
   "cell_type": "code",
   "execution_count": 4,
   "id": "73843b99",
   "metadata": {},
   "outputs": [
    {
     "data": {
      "text/plain": [
       "array([44, 16, 17, 18, 19, 20, 21, 22, 23, 24, 25, 26, 27, 28, 29, 30, 31,\n",
       "       32, 33, 34, 35, 36, 37, 38, 39, 40, 41, 42, 43,  0])"
      ]
     },
     "execution_count": 4,
     "metadata": {},
     "output_type": "execute_result"
    }
   ],
   "source": [
    "#  Reverse a vector (The first element becomes last)\n",
    "s=np.arange(15,45)\n",
    "s[0]=44\n",
    "s[-1]=0\n",
    "s"
   ]
  },
  {
   "cell_type": "code",
   "execution_count": 5,
   "id": "09594a08",
   "metadata": {},
   "outputs": [
    {
     "name": "stdout",
     "output_type": "stream",
     "text": [
      "True\n"
     ]
    },
    {
     "data": {
      "text/plain": [
       "False"
      ]
     },
     "execution_count": 5,
     "metadata": {},
     "output_type": "execute_result"
    }
   ],
   "source": [
    "\n",
    "\n",
    "# use of all and any function in numpy?\n",
    "s=np.array([56,30.5,60,45])\n",
    "s1=np.any(s)\n",
    "print(s1)\n",
    "s=np.array([0,56,30.5,60,45])\n",
    "s1=np.all(s)\n",
    "s1\n",
    "\n"
   ]
  },
  {
   "cell_type": "code",
   "execution_count": 6,
   "id": "64cd832e",
   "metadata": {},
   "outputs": [
    {
     "data": {
      "text/plain": [
       "array([[0, 1, 2],\n",
       "       [3, 4, 5],\n",
       "       [6, 7, 8]])"
      ]
     },
     "execution_count": 6,
     "metadata": {},
     "output_type": "execute_result"
    }
   ],
   "source": [
    "#  3x3 matrix  values ranging from 0 to 8\n",
    "s=np.arange(0,9).reshape(3,3)\n",
    "s"
   ]
  },
  {
   "cell_type": "code",
   "execution_count": 9,
   "id": "a3906911",
   "metadata": {},
   "outputs": [
    {
     "name": "stdout",
     "output_type": "stream",
     "text": [
      "[[12 43]\n",
      " [ 3 23]\n",
      " [ 4  2]]\n",
      "******************************\n",
      "[[ 4  3 12]\n",
      " [ 2 23 43]]\n",
      "******************************\n",
      "[[43 23  2]\n",
      " [12  3  4]]\n",
      "******************************\n"
     ]
    }
   ],
   "source": [
    "# 13. How to reverse the columns of a 2D array?\n",
    "s=np.array([[12,3,4],[43,23,2]])\n",
    "s1=np.transpose(s)\n",
    "print(s1)\n",
    "print('*'*30)\n",
    "\n",
    "\n",
    "s2=np.flip(s,axis=1)\n",
    "print(s2)\n",
    "print('*'*30)\n",
    "\n",
    "\n",
    "\n",
    "\n",
    "# reverse the rows of a 2D array?\n",
    "s3=np.array([[12,3,4],[43,23,2]])\n",
    "s3=np.flip(s3,axis=0)\n",
    "print(s3)\n",
    "print('*'*30)\n",
    "\n",
    "\n"
   ]
  },
  {
   "cell_type": "code",
   "execution_count": 10,
   "id": "ac0991d9",
   "metadata": {},
   "outputs": [
    {
     "data": {
      "text/plain": [
       "(array([0, 1, 4], dtype=int64),)"
      ]
     },
     "execution_count": 10,
     "metadata": {},
     "output_type": "execute_result"
    }
   ],
   "source": [
    "s=np.array([1,2,0,0,4,0])\n",
    "s1=np.where(s!=0)\n",
    "s1"
   ]
  },
  {
   "cell_type": "code",
   "execution_count": 11,
   "id": "4c593081",
   "metadata": {},
   "outputs": [
    {
     "data": {
      "text/plain": [
       "array([False, False,  True,  True,  True,  True,  True])"
      ]
     },
     "execution_count": 11,
     "metadata": {},
     "output_type": "execute_result"
    }
   ],
   "source": [
    "#  extract all numbers between a given range from a NumPy array?\n",
    "s=np.array([12,34,3,6,5,7,3])\n",
    "s1=np.where(s>2) and(s<8)\n",
    "s1"
   ]
  },
  {
   "cell_type": "code",
   "execution_count": 13,
   "id": "dd8c8d64",
   "metadata": {},
   "outputs": [
    {
     "data": {
      "text/plain": [
       "array([[1., 1., 1., 1., 1.],\n",
       "       [1., 0., 0., 0., 1.],\n",
       "       [1., 0., 0., 0., 1.],\n",
       "       [1., 0., 0., 0., 1.],\n",
       "       [1., 1., 1., 1., 1.]])"
      ]
     },
     "execution_count": 13,
     "metadata": {},
     "output_type": "execute_result"
    }
   ],
   "source": [
    "# 2d array with 1 on the border and 0 inside\n",
    "s=np.ones((5,5))\n",
    "s[1:-1,1:-1]=0\n",
    "s"
   ]
  },
  {
   "cell_type": "code",
   "execution_count": 14,
   "id": "549df144",
   "metadata": {},
   "outputs": [
    {
     "name": "stdout",
     "output_type": "stream",
     "text": [
      "[[1. 1. 1. 1. 1.]\n",
      " [1. 1. 1. 1. 1.]\n",
      " [1. 1. 1. 1. 1.]\n",
      " [1. 1. 1. 1. 1.]\n",
      " [1. 1. 1. 1. 1.]]\n",
      "*************************\n",
      "[[1. 1. 1. 1. 1.]\n",
      " [1. 1. 1. 1. 1.]\n",
      " [2. 2. 1. 1. 1.]\n",
      " [3. 3. 3. 1. 1.]\n",
      " [4. 4. 4. 4. 1.]]\n"
     ]
    }
   ],
   "source": [
    "#  5x5 matrix with values 1,2,3,4 just below the diagonal\n",
    "s=np.ones((5,5))\n",
    "print(s)\n",
    "print('*'*25)\n",
    "s[2:3,0:2]=2\n",
    "s[3:4,0:3]=3\n",
    "s[4:5,0:4]=4\n",
    "print(s)\n",
    "\n"
   ]
  },
  {
   "cell_type": "code",
   "execution_count": 35,
   "id": "8f9367b6",
   "metadata": {},
   "outputs": [
    {
     "data": {
      "text/plain": [
       "array([[0., 1., 0., 1., 0., 1., 0., 1.],\n",
       "       [1., 0., 1., 0., 1., 0., 1., 0.],\n",
       "       [0., 1., 0., 1., 0., 1., 0., 1.],\n",
       "       [1., 0., 1., 0., 1., 0., 1., 0.],\n",
       "       [0., 1., 0., 1., 0., 1., 0., 1.],\n",
       "       [1., 0., 1., 0., 1., 0., 1., 0.],\n",
       "       [0., 1., 0., 1., 0., 1., 0., 1.],\n",
       "       [1., 0., 1., 0., 1., 0., 1., 0.]])"
      ]
     },
     "execution_count": 35,
     "metadata": {},
     "output_type": "execute_result"
    }
   ],
   "source": [
    "\n",
    "\n",
    "# 8x8 matrix and fill it with a checkerboard pattern\n",
    "s=np.zeros((8,8))\n",
    "s[1::2,::2]=1\n",
    "s[::2,1::2]=1\n",
    "s\n",
    "\n"
   ]
  },
  {
   "cell_type": "code",
   "execution_count": 19,
   "id": "b7454fb9",
   "metadata": {},
   "outputs": [
    {
     "name": "stdout",
     "output_type": "stream",
     "text": [
      "[[ 1  2  3]\n",
      " [ 4  5  6]\n",
      " [ 7  8  9]\n",
      " [10 11 12]\n",
      " [13 14 15]]\n",
      "\n",
      "[[1 2]\n",
      " [3 4]\n",
      " [5 6]]\n",
      "\n",
      "[[ 22  28]\n",
      " [ 49  64]\n",
      " [ 76 100]\n",
      " [103 136]\n",
      " [130 172]]\n"
     ]
    }
   ],
   "source": [
    "# 5x3 matrix by a 3x2 matrix (real matrix product)\n",
    "s=np.arange(1,16).reshape(5,3)\n",
    "print(s)\n",
    "print()\n",
    "s1=np.arange(1,7).reshape(3,2)\n",
    "print(s1)\n",
    "print()\n",
    "s2=np.dot(s,s1)\n",
    "print(s2)"
   ]
  },
  {
   "cell_type": "code",
   "execution_count": 20,
   "id": "cab070c1",
   "metadata": {},
   "outputs": [
    {
     "name": "stdout",
     "output_type": "stream",
     "text": [
      "[ 1 17  3 11 11  2 18 10  1  6]\n",
      "elements less than 3 (array([0, 5, 8], dtype=int64),)\n",
      "elements greater than 8 (array([1, 3, 4, 6, 7], dtype=int64),)\n"
     ]
    }
   ],
   "source": [
    "# a 1Darray, negate all elements which are between 3 and 8, in place\n",
    "s=np.random.randint(1,20,10)\n",
    "print(s)\n",
    "s1=np.where(s<3)\n",
    "print('elements less than 3',s1)\n",
    "s2=np.where(s>8)\n",
    "print('elements greater than 8',s2)"
   ]
  },
  {
   "cell_type": "code",
   "execution_count": 22,
   "id": "6dd937e3",
   "metadata": {},
   "outputs": [
    {
     "name": "stdout",
     "output_type": "stream",
     "text": [
      "[0.84393573 0.78653768 0.9996514  0.67830114 0.79110069]\n",
      "[1. 1. 1. 1. 1.]\n"
     ]
    }
   ],
   "source": [
    "#  round away from zero a float array?\n",
    "s=np.random.rand(5)\n",
    "print(s)\n",
    "s1=np.around(s)\n",
    "print(s1)"
   ]
  },
  {
   "cell_type": "code",
   "execution_count": 23,
   "id": "fa7ac5b1",
   "metadata": {},
   "outputs": [
    {
     "name": "stdout",
     "output_type": "stream",
     "text": [
      "[13 17  8  4 13 17 19 16 13 19]\n",
      "[ 5 19 18  4 13  4  2 10 12  1]\n",
      "interseted elements are:> [ 4 13 19]\n"
     ]
    }
   ],
   "source": [
    "\n",
    "\n",
    "# find common values between the two arrays?\n",
    "s=np.random.randint(1,20,10)\n",
    "print(s)\n",
    "s1=np.random.randint(1,20,10)\n",
    "print(s1)\n",
    "s3=np.intersect1d(s,s1)\n",
    "print('interseted elements are:>',s3)\n",
    "\n"
   ]
  },
  {
   "cell_type": "code",
   "execution_count": 24,
   "id": "31e1996b",
   "metadata": {},
   "outputs": [
    {
     "data": {
      "text/plain": [
       "array([0.86606833, 0.0267392 , 0.6345286 , 0.28667394, 0.99773472,\n",
       "       0.0903458 , 0.05409675, 0.50818719, 0.65964266, 0.91133031])"
      ]
     },
     "execution_count": 24,
     "metadata": {},
     "output_type": "execute_result"
    }
   ],
   "source": [
    "#  Create a vector of size 10 with values ranging from 0 to 1, both excluded\n",
    "s=np.random.rand(10)\n",
    "s"
   ]
  },
  {
   "cell_type": "code",
   "execution_count": 25,
   "id": "e219d83a",
   "metadata": {},
   "outputs": [
    {
     "name": "stdout",
     "output_type": "stream",
     "text": [
      "[[3 0 2 0 2]\n",
      " [2 1 3 0 1]\n",
      " [0 0 3 0 2]\n",
      " [3 3 3 2 0]\n",
      " [2 1 0 3 2]]\n",
      "##############################\n",
      "[[0 1 2 3 4]\n",
      " [0 1 2 3 4]\n",
      " [0 1 2 3 4]\n",
      " [0 1 2 3 4]\n",
      " [0 1 2 3 4]]\n"
     ]
    }
   ],
   "source": [
    "s=np.random.randint(0,4,size=(5,5))\n",
    "print(s)\n",
    "print(\"#\"*30)\n",
    "s[0::]=0,1,2,3,4\n",
    "print(s)"
   ]
  },
  {
   "cell_type": "code",
   "execution_count": 26,
   "id": "2081859e",
   "metadata": {},
   "outputs": [
    {
     "name": "stdout",
     "output_type": "stream",
     "text": [
      "[[0. 1. 2. 3. 4.]\n",
      " [0. 1. 2. 3. 4.]\n",
      " [0. 1. 2. 3. 4.]\n",
      " [0. 1. 2. 3. 4.]\n",
      " [0. 1. 2. 3. 4.]]\n"
     ]
    }
   ],
   "source": [
    "\n",
    "\n",
    "s=np.zeros((5,5))\n",
    "s=s+np.arange(5)\n",
    "print(s)\n",
    "\n"
   ]
  },
  {
   "cell_type": "code",
   "execution_count": 27,
   "id": "a8f8615c",
   "metadata": {},
   "outputs": [
    {
     "data": {
      "text/plain": [
       "array([76, 56, 33, 11,  5,  2])"
      ]
     },
     "execution_count": 27,
     "metadata": {},
     "output_type": "execute_result"
    }
   ],
   "source": [
    "# sort an array by the nth column?\n",
    "s=np.array([11,2,33,56,5,76])\n",
    "s1=np.sort(s)[::-1]\n",
    "s1"
   ]
  },
  {
   "cell_type": "code",
   "execution_count": 28,
   "id": "e1bc6e36",
   "metadata": {},
   "outputs": [
    {
     "name": "stdout",
     "output_type": "stream",
     "text": [
      "[[ 4  2  2]\n",
      " [ 7 19  9]\n",
      " [11 11 15]\n",
      " [17  9 16]]\n",
      "[[17  9 16]\n",
      " [11 11 15]\n",
      " [ 7 19  9]\n",
      " [ 4  2  2]]\n"
     ]
    }
   ],
   "source": [
    "# swap two rows of an array?\n",
    "s=np.random.randint(2,20,size=(4,3))\n",
    "print(s)\n",
    "s1=np.flip(s,axis=0)\n",
    "print(s1)"
   ]
  },
  {
   "cell_type": "code",
   "execution_count": 30,
   "id": "256eba4d",
   "metadata": {},
   "outputs": [
    {
     "name": "stdout",
     "output_type": "stream",
     "text": [
      "[0.61202593 0.9238179  0.61055652 0.21324293 0.56782421]\n",
      "[0.612 0.924 0.611 0.213 0.568]\n"
     ]
    }
   ],
   "source": [
    "# print only 3 decimal places in a python NumPy array? \n",
    "s=np.random.rand(5)\n",
    "print(s)\n",
    "s1=np.around(s,3)\n",
    "print(s1)"
   ]
  },
  {
   "cell_type": "code",
   "execution_count": 31,
   "id": "fb66783d",
   "metadata": {},
   "outputs": [
    {
     "name": "stdout",
     "output_type": "stream",
     "text": [
      "[[[[ 5  6]\n",
      "   [ 2 17]]\n",
      "\n",
      "  [[ 1 17]\n",
      "   [ 9 13]]]\n",
      "\n",
      "\n",
      " [[[ 4  9]\n",
      "   [ 8  5]]\n",
      "\n",
      "  [[10 16]\n",
      "   [10  9]]]]\n",
      "[[ 5  6  2 17]\n",
      " [ 1 17  9 13]\n",
      " [ 4  9  8  5]\n",
      " [10 16 10  9]]\n"
     ]
    }
   ],
   "source": [
    "# to convert 4D array to 2D array?\n",
    "s=np.random.randint(1,20,size=(2,2,2,2))\n",
    "print(s)\n",
    "s1=s.reshape(4,4)\n",
    "print(s1)"
   ]
  },
  {
   "cell_type": "code",
   "execution_count": 32,
   "id": "6ff6fcd2",
   "metadata": {},
   "outputs": [
    {
     "name": "stdout",
     "output_type": "stream",
     "text": [
      "[[11 10  7  4]\n",
      " [19 13 13 10]\n",
      " [ 6  9 10 11]]\n",
      "shape is :  (3, 4)\n"
     ]
    }
   ],
   "source": [
    "# number of rows and columns of a given matrix using NumPy\n",
    "s=np.random.randint(1,20, size=(3,4))\n",
    "print(s)\n",
    "s1=s.shape\n",
    "print('shape is : ',s1)"
   ]
  },
  {
   "cell_type": "code",
   "execution_count": null,
   "id": "669f80bc",
   "metadata": {},
   "outputs": [],
   "source": []
  }
 ],
 "metadata": {
  "kernelspec": {
   "display_name": "Python 3 (ipykernel)",
   "language": "python",
   "name": "python3"
  },
  "language_info": {
   "codemirror_mode": {
    "name": "ipython",
    "version": 3
   },
   "file_extension": ".py",
   "mimetype": "text/x-python",
   "name": "python",
   "nbconvert_exporter": "python",
   "pygments_lexer": "ipython3",
   "version": "3.9.7"
  }
 },
 "nbformat": 4,
 "nbformat_minor": 5
}
